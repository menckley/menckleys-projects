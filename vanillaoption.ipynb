{
 "cells": [
  {
   "cell_type": "markdown",
   "id": "29490e17",
   "metadata": {},
   "source": [
    "Library & Parameters "
   ]
  },
  {
   "cell_type": "code",
   "execution_count": null,
   "id": "5e7dfdf1",
   "metadata": {},
   "outputs": [
    {
     "name": "stdout",
     "output_type": "stream",
     "text": [
      "Maturity in Years: 1.0\n"
     ]
    }
   ],
   "source": [
    "import numpy as np\n",
    "from scipy.stats import norm\n",
    "import datetime\n",
    "from datetime import datetime\n",
    "\n",
    "\n",
    "S0 = 100                      # Prix spot du sous-jacent\n",
    "K = 100                       # Prix d'exercice (strike)\n",
    "purchase_date = \"2023-01-01\"  # Date d'achat de l'option\n",
    "maturity_date = \"2024-01-01\"  # Date d'échéance de l'option\n",
    "#T = 1.0                      # Maturité en années\n",
    "r = 0.05                      # Taux sans risque (5%)\n",
    "sigma = 0.2                   # Volatilité annuelle (20%)\n",
    "option_type = 'call'          # 'call' or 'put'\n",
    "N = 10000                     # Nombre de simulations\n",
    "n_steps = 10000               # Nombre de pas \n",
    "q = 0                         # Taux de dividende\n",
    "\n",
    "purchase_date = datetime.strptime(purchase_date, \"%Y-%m-%d\")\n",
    "maturity_date = datetime.strptime(maturity_date, \"%Y-%m-%d\")\n",
    "T = (maturity_date - purchase_date).days / 365\n",
    "print(f\"Maturity in Years: {T}\")"
   ]
  },
  {
   "cell_type": "code",
   "execution_count": 114,
   "id": "a02c5a31",
   "metadata": {},
   "outputs": [
    {
     "name": "stdout",
     "output_type": "stream",
     "text": [
      "Prix Call (BSM) : 10.4506\n"
     ]
    }
   ],
   "source": [
    "# PRICER BLACK-SCHOLES\n",
    "\n",
    "def black_scholes(S0, K, T, r, sigma, option_type):\n",
    "    \"\"\"Prix Black-Scholes-Merton pour option européenne sans dividendes.\"\"\"\n",
    "    d1 = (np.log(S0 / K) + (r - q + 0.5 * sigma**2) * T) / (sigma * np.sqrt(T))\n",
    "    d2 = d1 - sigma * np.sqrt(T)\n",
    "\n",
    "    if option_type.lower() == 'call':\n",
    "        price = S0 * norm.cdf(d1) - K * np.exp(-r * T) * norm.cdf(d2)\n",
    "    elif option_type.lower() == 'put':\n",
    "        price = K * np.exp(-r * T) * norm.cdf(-d2) - S0 * np.exp(-q * T) * norm.cdf(-d1)\n",
    "    else:\n",
    "        raise ValueError(\"option_type doit être 'call' ou 'put'\")\n",
    "    \n",
    "    return price\n",
    "\n",
    "bs_price = black_scholes(S0, K, T, r, sigma, option_type)\n",
    "print(f\"Prix {option_type.capitalize()} (BSM) : {bs_price:.4f}\")\n"
   ]
  },
  {
   "cell_type": "markdown",
   "id": "30ff6a05",
   "metadata": {},
   "source": [
    "euro VO With no dividends of the underlying asset - Binomial Tree"
   ]
  },
  {
   "cell_type": "code",
   "execution_count": 115,
   "id": "210cb451",
   "metadata": {},
   "outputs": [
    {
     "name": "stdout",
     "output_type": "stream",
     "text": [
      "Prix Call (Binomial Tree CRR, N=10000) : 10.4504\n"
     ]
    }
   ],
   "source": [
    "# PRICER BINOMIAL\n",
    "\n",
    "def binomial_tree_crr(S0, K, T, r, sigma, N, option_type='call'):\n",
    "    \"\"\"\n",
    "    Prix d'une option européenne via arbre binomial Cox-Ross-Rubinstein (CRR).\n",
    "    \"\"\"\n",
    "    dt = T / N\n",
    "    u = np.exp(sigma * np.sqrt(dt))\n",
    "    d = 1 / u\n",
    "    p = (np.exp(r * dt) - d) / (u - d)\n",
    "    \n",
    "    # Prix possibles du sous-jacent à maturité\n",
    "    ST = np.array([S0 * (u**j) * (d**(N - j)) for j in range(N + 1)])\n",
    "    \n",
    "    # Payoff à maturité\n",
    "    if option_type.lower() == 'call':\n",
    "        option_values = np.maximum(ST - K, 0)\n",
    "    elif option_type.lower() == 'put':\n",
    "        option_values = np.maximum(K - ST, 0)\n",
    "    else:\n",
    "        raise ValueError(\"option_type doit être 'call' ou 'put'\")\n",
    "    \n",
    "    # Remontée dans l'arbre\n",
    "    for i in range(N - 1, -1, -1):\n",
    "        option_values = np.exp(-r * dt) * (p * option_values[1:] + (1 - p) * option_values[:-1])\n",
    "    \n",
    "    return option_values[0]\n",
    "\n",
    "bt_price = binomial_tree_crr(S0, K, T, r, sigma, N, option_type)\n",
    "print(f\"Prix {option_type.capitalize()} (Binomial Tree CRR, N={N}) : {bt_price:.4f}\")"
   ]
  },
  {
   "cell_type": "markdown",
   "id": "12f9dab7",
   "metadata": {},
   "source": [
    "euro VO With no dividends of the underlying asset - Monte Carlo"
   ]
  },
  {
   "cell_type": "code",
   "execution_count": 116,
   "id": "b9b6f0b6",
   "metadata": {},
   "outputs": [
    {
     "name": "stdout",
     "output_type": "stream",
     "text": [
      "Prix de l'option call par Monte Carlo : 10.3939\n"
     ]
    }
   ],
   "source": [
    "# PRICER MONTE CARLO\n",
    "\n",
    "# Générer N valeurs aléatoires normales\n",
    "Z = np.random.randn(N)\n",
    "\n",
    "# Simuler le prix du sous-jacent à l'échéance (S_T)\n",
    "S_T = S0 * np.exp((r - 0.5 * sigma**2) * T + sigma * np.sqrt(T) * Z)\n",
    "\n",
    "# Calculer le payoff\n",
    "if option_type == 'call':\n",
    "    payoffs = np.maximum(S_T - K, 0)\n",
    "elif option_type == 'put':\n",
    "    payoffs = np.maximum(K - S_T, 0)\n",
    "else:\n",
    "    raise ValueError(\"option_type doit être 'call' ou 'put'\")\n",
    "\n",
    "# Actualiser la moyenne des payoffs\n",
    "option_price = np.exp(-r * T) * np.mean(payoffs)\n",
    "\n",
    "print(f\"Prix de l'option {option_type} par Monte Carlo : {option_price:.4f}\")"
   ]
  },
  {
   "cell_type": "code",
   "execution_count": 117,
   "id": "3d6bbb2e",
   "metadata": {},
   "outputs": [
    {
     "name": "stdout",
     "output_type": "stream",
     "text": [
      "Prix Call (BSM) : 10.4505835722\n",
      "Prix Call (Binomial Tree CRR, N=10000) : 10.4503836029\n",
      "Prix de l'option call par Monte Carlo : 10.3939389950\n"
     ]
    }
   ],
   "source": [
    "print(f\"Prix {option_type.capitalize()} (BSM) : {bs_price:.10f}\")\n",
    "print(f\"Prix {option_type.capitalize()} (Binomial Tree CRR, N={N}) : {bt_price:.10f}\")\n",
    "print(f\"Prix de l'option {option_type} par Monte Carlo : {option_price:.10f}\")"
   ]
  }
 ],
 "metadata": {
  "kernelspec": {
   "display_name": "envir_lib",
   "language": "python",
   "name": "python3"
  },
  "language_info": {
   "codemirror_mode": {
    "name": "ipython",
    "version": 3
   },
   "file_extension": ".py",
   "mimetype": "text/x-python",
   "name": "python",
   "nbconvert_exporter": "python",
   "pygments_lexer": "ipython3",
   "version": "3.12.5"
  }
 },
 "nbformat": 4,
 "nbformat_minor": 5
}
